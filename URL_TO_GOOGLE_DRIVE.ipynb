{
  "nbformat": 4,
  "nbformat_minor": 0,
  "metadata": {
    "colab": {
      "provenance": []
    },
    "kernelspec": {
      "name": "python3",
      "display_name": "Python 3"
    }
  },
  "cells": [
    {
      "cell_type": "markdown",
      "metadata": {
        "id": "PnUdhqn8of3x"
      },
      "source": [
        "<center><img src='https://i.imgur.com/C3kirv9.png' height=\"150\" alt=\"Kamrul\"/></center>\n",
        "\n",
        "---\n",
        "\n",
        "# <center><h2> TRANSFERE NOW! !!OTHER GOOGLE DRIVE TO MY GOOGLE DRIVE :( </h2></center></br>\n",
        "# <center> ALL CODE BY [**KAMRUL HOSSAIN**](https://facebook.com/elitekamrul) :(\n",
        "\n",
        "<center><font color='red'>:) Please don't try to copy my code.</font></center>"
      ]
    },
    {
      "cell_type": "code",
      "metadata": {
        "cellView": "form",
        "id": "zMGMdzdYZ5D0"
      },
      "source": [
        "from google.colab import drive\n",
        "import os\n",
        "\n",
        "#@markdown\n",
        "#@markdown <br><center><h2> RUN THIS CELL TO MOUNT/UNMOUNT GOOGLE DRIVE</h2></center></br>\n",
        "MODE = \"MOUNT\" #@param [\"MOUNT\", \"UNMOUNT\"]\n",
        "\n",
        "def mount_or_unmount_google_drive(mode):\n",
        "    if mode == \"MOUNT\":\n",
        "        # Mount Google Drive\n",
        "        drive.mount('/content/drive', force_remount=True)\n",
        "        print(\"\\033[1;31m\" + \"Google Drive is \\033[1;32mmounted\\033[0;0m successfully.\")  # Display green text for mount\n",
        "    elif mode == \"UNMOUNT\":\n",
        "        # Unmount Google Drive\n",
        "        if os.path.ismount('/content/drive'):\n",
        "            !fusermount -u /content/drive\n",
        "            print(\"\\033[1;31m\" + \"Google Drive is \\033[1;31munmounted\\033[0;0m.\")  # Display red text for unmount\n",
        "        else:\n",
        "            print(\"Google Drive is not currently mounted.\")\n",
        "    else:\n",
        "        print(\"Invalid mode. Please choose 'MOUNT' or 'UNMOUNT'.\")\n",
        "\n",
        "# Mount or unmount Google Drive based on the selected mode\n",
        "mount_or_unmount_google_drive(MODE)"
      ],
      "execution_count": null,
      "outputs": []
    },
    {
      "cell_type": "code",
      "metadata": {
        "id": "lHVOWv5OmYuy"
      },
      "source": [
        "!sudo cp -r -v \"Enter Other File Location/\" \"Enter Your File Location\""
      ],
      "execution_count": null,
      "outputs": []
    }
  ]
}
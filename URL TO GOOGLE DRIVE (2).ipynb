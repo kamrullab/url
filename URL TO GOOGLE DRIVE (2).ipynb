{"nbformat":4,"nbformat_minor":0,"metadata":{"colab":{"provenance":[],"authorship_tag":"ABX9TyOWmOgPUdBXWaovQHoYaYy3"},"kernelspec":{"name":"python3","display_name":"Python 3"}},"cells":[{"cell_type":"markdown","metadata":{"id":"PnUdhqn8of3x"},"source":["<center><img src='https://i.imgur.com/C3kirv9.png' height="150" alt="Kamrul"/></center>

---
#<center><h3>TRANSFERE NOW! !!OTHER GOOGLE DRIVE TO MY GOOGLE DRIVE :(</h3></center><br>
# <center> ALL CODE BY [**KAMRUL HOSSAIN**](https://facebook.com/elitekamrul) :(

<center><font color='red'>:) Please don't try to copy my code.</font></center>"]},{"cell_type":"code","metadata":{"cellView":"form","id":"zMGMdzdYZ5D0"},"source":["#@markdown <br><center><h2> RUN THIS CELL TO MOUNT GOOGLE DRIVE</h2></center></br>\n","MODE = \"MOUNT\" #@param [\"MOUNT\", \"UNMOUNT\"]\n","from google.colab import drive\n","drive.mount('/content/drive', force_remount=True)"],"execution_count":null,"outputs":[]},{"cell_type":"code","metadata":{"id":"lHVOWv5OmYuy"},"source":["!sudo cp -r -v \"Enter Other File Location/\" \"Enter Your File Location\""],"execution_count":null,"outputs":[]}]}
